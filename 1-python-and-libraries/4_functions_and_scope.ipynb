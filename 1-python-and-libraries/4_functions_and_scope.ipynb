{
 "cells": [
  {
   "cell_type": "markdown",
   "metadata": {},
   "source": [
    "## Functions & Scope in Python"
   ]
  },
  {
   "cell_type": "code",
   "execution_count": 2,
   "metadata": {},
   "outputs": [
    {
     "name": "stdout",
     "output_type": "stream",
     "text": [
      "Hello! how are you Atharva\n"
     ]
    }
   ],
   "source": [
    "def say_hello(name):\n",
    "    print(\"Hello! how are you\", name)\n",
    "\n",
    "say_hello(\"Atharva\")"
   ]
  },
  {
   "cell_type": "code",
   "execution_count": 4,
   "metadata": {},
   "outputs": [
    {
     "name": "stdout",
     "output_type": "stream",
     "text": [
      "[0, 1, 2, 3, 4, 5, 6, 7, 8, 9]\n",
      "[1, 3, 5, 7, 9]\n"
     ]
    }
   ],
   "source": [
    "def filter_even(number_list):\n",
    "    result_list = []\n",
    "\n",
    "    for number in number_list:\n",
    "        if number % 2 == 0:\n",
    "            continue\n",
    "        else:\n",
    "            result_list.append(number)\n",
    "\n",
    "    return result_list\n",
    "\n",
    "def add_numbers(lastNumber):\n",
    "    numberList = []\n",
    "    for i in range(0, lastNumber):\n",
    "        numberList.append(i)\n",
    "\n",
    "    return numberList\n",
    "\n",
    "numberList = add_numbers(10)\n",
    "print(numberList)\n",
    "\n",
    "resultList = filter_even(numberList)\n",
    "print(resultList)"
   ]
  },
  {
   "cell_type": "markdown",
   "metadata": {},
   "source": [
    "## Problem 1\n",
    "\n",
    "As a programmer, you will spend most of your time writing and using functions. Python offers many features to make your functions powerful and flexible. Let's explore some of these by solving a problem:\n",
    "\n",
    "Radha is planning to buy a house that costs $1,260,000. She considering two options to finance her purchase:\n",
    "\n",
    "Option 1: Make an immediate down payment of $300,000, and take loan 8-year loan with an interest rate of 10% (compounded monthly) for the remaining amount.\n",
    "Option 2: Take a 10-year loan with an interest rate of 8% (compounded monthly) for the entire amount.\n",
    "Both these loans have to be paid back in equal monthly installments (EMIs). Which loan has a lower EMI among the two?\n",
    "\n",
    "Since we need to compare the EMIs for two loan options, defining a function to calculate the EMI for a loan would be a great idea. The inputs to the function would be cost of the house, the down payment, duration of the loan, rate of interest etc. We'll build this function step by step."
   ]
  },
  {
   "cell_type": "code",
   "execution_count": 5,
   "metadata": {},
   "outputs": [
    {
     "name": "stdout",
     "output_type": "stream",
     "text": [
      "Option 1 is best for you\n"
     ]
    }
   ],
   "source": [
    "def loanEMI (amount, duration, down_payment=0):\n",
    "    loanAmount = amount - down_payment\n",
    "    emi = loanAmount / duration\n",
    "    return emi\n",
    "\n",
    "def bestOption(option1, option2):\n",
    "    if option1 < option2:\n",
    "        print(\"Option 1 is best for you\")\n",
    "    elif option1 > option2:\n",
    "        print(\"Option 2 is best for you\")\n",
    "    else:\n",
    "        print(\"Both options are equally good\")\n",
    "\n",
    "original_price = 1260000\n",
    "down_payment_1 = 300000\n",
    "duration1 = 8\n",
    "interest1 = 10\n",
    "\n",
    "duration2 = 10\n",
    "interest2 = 8\n",
    "\n",
    "emi1 = loanEMI(original_price, duration1, down_payment_1)\n",
    "emi2 = loanEMI(original_price, duration2)\n",
    "\n",
    "bestOption(emi1, emi2)\n"
   ]
  },
  {
   "cell_type": "markdown",
   "metadata": {},
   "source": [
    "### Problem 2\n",
    "\n",
    "You're planning a vacation, and you need to decide which city you want to visit. You have shortlisted four cities and identified the return flight cost, daily hotel cost, and weekly car rental cost. While renting a car, you need to pay for entire weeks, even if you return the car sooner."
   ]
  },
  {
   "cell_type": "code",
   "execution_count": 60,
   "metadata": {},
   "outputs": [
    {
     "name": "stdout",
     "output_type": "stream",
     "text": [
      "634.2857142857143 Dubai\n"
     ]
    }
   ],
   "source": [
    "# Creating vacation table using dictionaries\n",
    "\n",
    "vacationTable = [\n",
    "    {   \n",
    "        \"place\": \"Paris\",\n",
    "        \"return_flight\": 200, \n",
    "        \"hotel_per_day\": 20,\n",
    "        \"weekly_car_Rental\": 200,\n",
    "    }, \n",
    "    {   \n",
    "        \"place\": \"London\",\n",
    "        \"return_flight\": 250, \n",
    "        \"hotel_per_day\": 30,\n",
    "        \"weekly_car_Rental\": 120,\n",
    "    }, \n",
    "    {   \n",
    "        \"place\": \"Dubai\",\n",
    "        \"return_flight\": 370, \n",
    "        \"hotel_per_day\": 15,\n",
    "        \"weekly_car_Rental\": 80,\n",
    "    }, \n",
    "    {   \n",
    "        \"place\": \"Mumbai\",\n",
    "        \"return_flight\": 450, \n",
    "        \"hotel_per_day\": 10,\n",
    "        \"weekly_car_Rental\": 70,\n",
    "    }, \n",
    "]\n",
    "\n",
    "def trip_cost(placeObject, duration = 7): \n",
    "    return_flight = placeObject[\"return_flight\"]\n",
    "    hotel_per_day = placeObject[\"hotel_per_day\"] \n",
    "    total_hotel_cost = hotel_per_day * duration\n",
    "    weekly_car_Rental = placeObject[\"weekly_car_Rental\"]\n",
    "    car_rental_per_day = weekly_car_Rental / 7\n",
    "    total_car_fare = car_rental_per_day * duration\n",
    "\n",
    "    total_trip_cost = return_flight + total_hotel_cost + total_car_fare\n",
    "\n",
    "    return total_trip_cost\n",
    "\n",
    "# Best place for 1 week long trip\n",
    "lowest_price = 9999999999\n",
    "new_place = \"noh\"\n",
    "duration = 10\n",
    "budget = 1000\n",
    "for place in vacationTable:\n",
    "    place_trip_cost = trip_cost(place, duration)\n",
    "\n",
    "    if place_trip_cost <= lowest_price and place_trip_cost <= budget:\n",
    "        lowest_price = place_trip_cost\n",
    "        new_place = place[\"place\"]\n",
    "    \n",
    "print(lowest_price, new_place)\n",
    "\n",
    "\n",
    "\n"
   ]
  }
 ],
 "metadata": {
  "kernelspec": {
   "display_name": "base",
   "language": "python",
   "name": "python3"
  },
  "language_info": {
   "codemirror_mode": {
    "name": "ipython",
    "version": 3
   },
   "file_extension": ".py",
   "mimetype": "text/x-python",
   "name": "python",
   "nbconvert_exporter": "python",
   "pygments_lexer": "ipython3",
   "version": "3.11.5"
  }
 },
 "nbformat": 4,
 "nbformat_minor": 2
}
