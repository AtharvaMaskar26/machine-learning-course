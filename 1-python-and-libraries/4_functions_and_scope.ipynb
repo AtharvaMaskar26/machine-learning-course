{
 "cells": [
  {
   "cell_type": "markdown",
   "metadata": {},
   "source": [
    "## Functions & Scope in Python"
   ]
  },
  {
   "cell_type": "code",
   "execution_count": 2,
   "metadata": {},
   "outputs": [
    {
     "name": "stdout",
     "output_type": "stream",
     "text": [
      "Hello! how are you Atharva\n"
     ]
    }
   ],
   "source": [
    "def say_hello(name):\n",
    "    print(\"Hello! how are you\", name)\n",
    "\n",
    "say_hello(\"Atharva\")"
   ]
  },
  {
   "cell_type": "code",
   "execution_count": 4,
   "metadata": {},
   "outputs": [
    {
     "name": "stdout",
     "output_type": "stream",
     "text": [
      "[0, 1, 2, 3, 4, 5, 6, 7, 8, 9]\n",
      "[1, 3, 5, 7, 9]\n"
     ]
    }
   ],
   "source": [
    "def filter_even(number_list):\n",
    "    result_list = []\n",
    "\n",
    "    for number in number_list:\n",
    "        if number % 2 == 0:\n",
    "            continue\n",
    "        else:\n",
    "            result_list.append(number)\n",
    "\n",
    "    return result_list\n",
    "\n",
    "def add_numbers(lastNumber):\n",
    "    numberList = []\n",
    "    for i in range(0, lastNumber):\n",
    "        numberList.append(i)\n",
    "\n",
    "    return numberList\n",
    "\n",
    "numberList = add_numbers(10)\n",
    "print(numberList)\n",
    "\n",
    "resultList = filter_even(numberList)\n",
    "print(resultList)"
   ]
  },
  {
   "cell_type": "markdown",
   "metadata": {},
   "source": [
    "## Problem 1\n",
    "\n",
    "As a programmer, you will spend most of your time writing and using functions. Python offers many features to make your functions powerful and flexible. Let's explore some of these by solving a problem:\n",
    "\n",
    "Radha is planning to buy a house that costs $1,260,000. She considering two options to finance her purchase:\n",
    "\n",
    "Option 1: Make an immediate down payment of $300,000, and take loan 8-year loan with an interest rate of 10% (compounded monthly) for the remaining amount.\n",
    "Option 2: Take a 10-year loan with an interest rate of 8% (compounded monthly) for the entire amount.\n",
    "Both these loans have to be paid back in equal monthly installments (EMIs). Which loan has a lower EMI among the two?\n",
    "\n",
    "Since we need to compare the EMIs for two loan options, defining a function to calculate the EMI for a loan would be a great idea. The inputs to the function would be cost of the house, the down payment, duration of the loan, rate of interest etc. We'll build this function step by step."
   ]
  },
  {
   "cell_type": "code",
   "execution_count": 5,
   "metadata": {},
   "outputs": [
    {
     "name": "stdout",
     "output_type": "stream",
     "text": [
      "Option 1 is best for you\n"
     ]
    }
   ],
   "source": [
    "def loanEMI (amount, duration, down_payment=0):\n",
    "    loanAmount = amount - down_payment\n",
    "    emi = loanAmount / duration\n",
    "    return emi\n",
    "\n",
    "def bestOption(option1, option2):\n",
    "    if option1 < option2:\n",
    "        print(\"Option 1 is best for you\")\n",
    "    elif option1 > option2:\n",
    "        print(\"Option 2 is best for you\")\n",
    "    else:\n",
    "        print(\"Both options are equally good\")\n",
    "\n",
    "original_price = 1260000\n",
    "down_payment_1 = 300000\n",
    "duration1 = 8\n",
    "interest1 = 10\n",
    "\n",
    "duration2 = 10\n",
    "interest2 = 8\n",
    "\n",
    "emi1 = loanEMI(original_price, duration1, down_payment_1)\n",
    "emi2 = loanEMI(original_price, duration2)\n",
    "\n",
    "bestOption(emi1, emi2)\n"
   ]
  },
  {
   "cell_type": "markdown",
   "metadata": {},
   "source": [
    "### Problem 2\n",
    "\n",
    "You're planning a vacation, and you need to decide which city you want to visit. You have shortlisted four cities and identified the return flight cost, daily hotel cost, and weekly car rental cost. While renting a car, you need to pay for entire weeks, even if you return the car sooner."
   ]
  },
  {
   "cell_type": "code",
   "execution_count": 27,
   "metadata": {},
   "outputs": [
    {
     "name": "stdout",
     "output_type": "stream",
     "text": [
      "{'place': 'Paris', 'return_flight': 200, 'hotel_per_day': 20, 'weekly_car_Rental': 200}\n",
      "{'place': 'London', 'return_flight': 250, 'hotel_per_day': 30, 'weekly_car_Rental': 120}\n",
      "{'place': 'Dubai', 'return_flight': 370, 'hotel_per_day': 15, 'weekly_car_Rental': 80}\n",
      "{'place': 'Mumbai', 'return_flight': 450, 'hotel_per_day': 10, 'weekly_car_Rental': 70}\n",
      "590.0 \n"
     ]
    }
   ],
   "source": [
    "# Creating vacation table using dictionaries\n",
    "\n",
    "vacationTable = [\n",
    "    {   \n",
    "        \"place\": \"Paris\",\n",
    "        \"return_flight\": 200, \n",
    "        \"hotel_per_day\": 20,\n",
    "        \"weekly_car_Rental\": 200,\n",
    "    }, \n",
    "    {   \n",
    "        \"place\": \"London\",\n",
    "        \"return_flight\": 250, \n",
    "        \"hotel_per_day\": 30,\n",
    "        \"weekly_car_Rental\": 120,\n",
    "    }, \n",
    "    {   \n",
    "        \"place\": \"Dubai\",\n",
    "        \"return_flight\": 370, \n",
    "        \"hotel_per_day\": 15,\n",
    "        \"weekly_car_Rental\": 80,\n",
    "    }, \n",
    "    {   \n",
    "        \"place\": \"Mumbai\",\n",
    "        \"return_flight\": 450, \n",
    "        \"hotel_per_day\": 10,\n",
    "        \"weekly_car_Rental\": 70,\n",
    "    }, \n",
    "]\n",
    "\n",
    "def total_money_spent(city_dictionary, duration=7): \n",
    "    total_hotel_cost = city_dictionary[\"hotel_per_day\"] * duration\n",
    "    return_ticket_cost = city_dictionary[\"return_flight\"]\n",
    "    car_rental = (city_dictionary[\"weekly_car_Rental\"] / 7) * duration\n",
    "    total_cost = total_hotel_cost + return_ticket_cost + car_rental\n",
    "\n",
    "    return total_cost\n",
    "\n",
    "\n",
    "# Which city will you spend the least amount of money for 1 week\n",
    "spent_least = total_money_spent(vacationTable[0])\n",
    "for place in vacationTable:\n",
    "    print(place)\n",
    "    amount = total_money_spent(place)\n",
    "    if amount < spent_least:\n",
    "        spent_least = amount\n",
    "        placeName = place[\"place\"]\n",
    "    else:\n",
    "        continue\n",
    "\n",
    "\n",
    "print(amount, placeName)"
   ]
  }
 ],
 "metadata": {
  "kernelspec": {
   "display_name": "base",
   "language": "python",
   "name": "python3"
  },
  "language_info": {
   "codemirror_mode": {
    "name": "ipython",
    "version": 3
   },
   "file_extension": ".py",
   "mimetype": "text/x-python",
   "name": "python",
   "nbconvert_exporter": "python",
   "pygments_lexer": "ipython3",
   "version": "3.11.5"
  }
 },
 "nbformat": 4,
 "nbformat_minor": 2
}
