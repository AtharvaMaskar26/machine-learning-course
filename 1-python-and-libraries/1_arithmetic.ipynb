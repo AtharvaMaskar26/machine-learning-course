{
 "cells": [
  {
   "cell_type": "markdown",
   "metadata": {},
   "source": [
    "Arithmetic Operations in Python"
   ]
  },
  {
   "cell_type": "code",
   "execution_count": 1,
   "metadata": {},
   "outputs": [
    {
     "name": "stdout",
     "output_type": "stream",
     "text": [
      "14\n"
     ]
    }
   ],
   "source": [
    "print(2+3+9)"
   ]
  },
  {
   "cell_type": "code",
   "execution_count": 4,
   "metadata": {},
   "outputs": [
    {
     "name": "stdout",
     "output_type": "stream",
     "text": [
      "42.0\n"
     ]
    }
   ],
   "source": [
    "print(12*3.5)"
   ]
  },
  {
   "cell_type": "code",
   "execution_count": 9,
   "metadata": {},
   "outputs": [
    {
     "name": "stdout",
     "output_type": "stream",
     "text": [
      "11.11111111111111\n"
     ]
    }
   ],
   "source": [
    "print(100/9)"
   ]
  },
  {
   "cell_type": "code",
   "execution_count": 10,
   "metadata": {},
   "outputs": [
    {
     "name": "stdout",
     "output_type": "stream",
     "text": [
      "14\n"
     ]
    }
   ],
   "source": [
    "print(100//7) # Ignores all numbers after decimal"
   ]
  },
  {
   "cell_type": "code",
   "execution_count": 12,
   "metadata": {},
   "outputs": [
    {
     "name": "stdout",
     "output_type": "stream",
     "text": [
      "2\n"
     ]
    }
   ],
   "source": [
    "print(100 % 7) # Gives Remainder"
   ]
  },
  {
   "cell_type": "code",
   "execution_count": 13,
   "metadata": {},
   "outputs": [
    {
     "name": "stdout",
     "output_type": "stream",
     "text": [
      "16\n"
     ]
    }
   ],
   "source": [
    "print(2 ** 4) # Gives answer to the power of"
   ]
  },
  {
   "cell_type": "markdown",
   "metadata": {},
   "source": [
    "## Problem 1\n",
    "\n",
    "The population of a town is 198568. Out of them 45312 are men and 35678 are women. Find the number of children in the town."
   ]
  },
  {
   "cell_type": "code",
   "execution_count": 46,
   "metadata": {},
   "outputs": [
    {
     "name": "stdout",
     "output_type": "stream",
     "text": [
      "Population of women in the town is:  117578\n"
     ]
    }
   ],
   "source": [
    "population_of_town = 198568\n",
    "population_of_men = 45312\n",
    "population_of_women = 35678\n",
    "\n",
    "total_adults = population_of_men + population_of_women\n",
    "\n",
    "population_of_children = population_of_town - total_adults\n",
    "\n",
    "print(\"Population of women in the town is: \", population_of_children)"
   ]
  },
  {
   "cell_type": "markdown",
   "metadata": {},
   "source": [
    "## Problem 2\n",
    "\n",
    "A shopkeeper has 2425 boxes of 24 pencils each. How many pencils do all the boxes have in all?"
   ]
  },
  {
   "cell_type": "code",
   "execution_count": 15,
   "metadata": {},
   "outputs": [
    {
     "name": "stdout",
     "output_type": "stream",
     "text": [
      "Total pencils in the box are:  58200\n"
     ]
    }
   ],
   "source": [
    "total_boxes = 2425\n",
    "pencils_per_box = 24\n",
    "\n",
    "total_pencils = total_boxes * pencils_per_box\n",
    "\n",
    "print(\"Total pencils in the box are: \", total_pencils)"
   ]
  },
  {
   "cell_type": "markdown",
   "metadata": {},
   "source": [
    "## Problem 3\n",
    "\n",
    "Linda bought a coat for $2265 and a saree for $2150. She gave $5000 to the shopkeeper. How much money did the shopkeeper return to her?"
   ]
  },
  {
   "cell_type": "code",
   "execution_count": 17,
   "metadata": {},
   "outputs": [
    {
     "name": "stdout",
     "output_type": "stream",
     "text": [
      "The shopkeeper gave linda: $ 585\n"
     ]
    }
   ],
   "source": [
    "cost_of_coat = 2265\n",
    "cost_of_saree = 2150\n",
    "money_given_to_shopkeeper = 5000\n",
    "\n",
    "total_cost_of_clothes = cost_of_coat + cost_of_saree\n",
    "money_returned = money_given_to_shopkeeper - total_cost_of_clothes\n",
    "\n",
    "print(\"The shopkeeper gave linda: $\", money_returned)"
   ]
  },
  {
   "cell_type": "markdown",
   "metadata": {},
   "source": [
    "## Problem 4\n",
    "\n",
    "The cost of 21 TV sets is $95844. Find the cost of one TV set"
   ]
  },
  {
   "cell_type": "code",
   "execution_count": 20,
   "metadata": {},
   "outputs": [
    {
     "name": "stdout",
     "output_type": "stream",
     "text": [
      "cost of 1 set is: $ 4564.0\n"
     ]
    }
   ],
   "source": [
    "number_of_tv_sets = 21\n",
    "total_cost = 95844\n",
    "\n",
    "cost_of_one_set = total_cost / number_of_tv_sets\n",
    "\n",
    "print(\"cost of 1 set is: $\", cost_of_one_set)"
   ]
  },
  {
   "cell_type": "markdown",
   "metadata": {},
   "source": [
    "## Problem 5\n",
    "\n",
    "A factory produces 24532 bulbs in a month. What is its annual production?"
   ]
  },
  {
   "cell_type": "code",
   "execution_count": 21,
   "metadata": {},
   "outputs": [
    {
     "name": "stdout",
     "output_type": "stream",
     "text": [
      "Annual production is:  294384\n"
     ]
    }
   ],
   "source": [
    "bulbs_produced = 24532\n",
    "\n",
    "annual_production = bulbs_produced * 12\n",
    "\n",
    "print(\"Annual production is: \", annual_production)"
   ]
  },
  {
   "cell_type": "markdown",
   "metadata": {},
   "source": [
    "## Problem 6\n",
    "\n",
    "There are 145968 bags of sugar, 236487 bags of wheat and some bags of rice in a godown. It the total number of bags in the godown is 450000, find the number of bags of rice."
   ]
  },
  {
   "cell_type": "code",
   "execution_count": 22,
   "metadata": {},
   "outputs": [
    {
     "name": "stdout",
     "output_type": "stream",
     "text": [
      "Total bags of rice:  67545\n"
     ]
    }
   ],
   "source": [
    "bags_of_sugar = 145968\n",
    "bags_of_wheat = 236487\n",
    "total_bags = 450000\n",
    "\n",
    "bags_of_sugar_and_wheat = bags_of_sugar + bags_of_wheat\n",
    "\n",
    "bags_of_rice = total_bags - bags_of_sugar_and_wheat\n",
    "\n",
    "print(\"Total bags of rice: \", bags_of_rice)"
   ]
  },
  {
   "cell_type": "markdown",
   "metadata": {},
   "source": [
    "## Problem 7\n",
    "\n",
    "A factory manufactured 483685 toys in three weeks. The production in first week was 146345 toys and in second week 138152 toys. Find the production in the third week."
   ]
  },
  {
   "cell_type": "code",
   "execution_count": 23,
   "metadata": {},
   "outputs": [
    {
     "name": "stdout",
     "output_type": "stream",
     "text": [
      "Toys manufactured in third week:  199188\n"
     ]
    }
   ],
   "source": [
    "toys_manufactured_in_3_weeks = 483685\n",
    "first_week_production = 146345\n",
    "second_week_production = 138152\n",
    "\n",
    "first_and_second_week_production = first_week_production + second_week_production\n",
    "\n",
    "third_week_production = toys_manufactured_in_3_weeks - first_and_second_week_production\n",
    "\n",
    "print(\"Toys manufactured in third week: \", third_week_production)"
   ]
  },
  {
   "cell_type": "markdown",
   "metadata": {},
   "source": [
    "## Problem 8\n",
    "\n",
    "The cost of a sofa set is $9372. How much will 124 such sofa sets cost?"
   ]
  },
  {
   "cell_type": "code",
   "execution_count": 44,
   "metadata": {},
   "outputs": [
    {
     "name": "stdout",
     "output_type": "stream",
     "text": [
      "Cost of 24 sofa set is:  1162128\n"
     ]
    }
   ],
   "source": [
    "cost_of_one_sofa_set = 9372\n",
    "\n",
    "cost_of_124_sofa_set = cost_of_one_sofa_set * 124\n",
    "\n",
    "print(\"Cost of 24 sofa set is: \", cost_of_124_sofa_set)"
   ]
  },
  {
   "cell_type": "markdown",
   "metadata": {},
   "source": [
    "## Problem 9\n",
    "\n",
    "There are 86 rooms in a school. 4386 students study there. Equal number of students sits in each room?"
   ]
  },
  {
   "cell_type": "code",
   "execution_count": 29,
   "metadata": {},
   "outputs": [
    {
     "name": "stdout",
     "output_type": "stream",
     "text": [
      "Number of students studying in each room is:  51\n"
     ]
    }
   ],
   "source": [
    "number_of_rooms = 86\n",
    "number_of_students = 4386\n",
    "\n",
    "students_in_each_room = number_of_students // number_of_rooms\n",
    "\n",
    "print(\"Number of students studying in each room is: \", students_in_each_room)"
   ]
  },
  {
   "cell_type": "markdown",
   "metadata": {},
   "source": [
    "## Problem 10\n",
    "\n",
    "1575 students of a school want to go Agra by bus. If one bus can carry 75 students, how many buses are required to carry all the students?"
   ]
  },
  {
   "cell_type": "code",
   "execution_count": 33,
   "metadata": {},
   "outputs": [
    {
     "name": "stdout",
     "output_type": "stream",
     "text": [
      "Total number of busses required will be:  21\n"
     ]
    }
   ],
   "source": [
    "total_students = 1575\n",
    "students_per_bus = 75\n",
    "\n",
    "total_busses_required = total_students // students_per_bus\n",
    "\n",
    "print(\"Total number of busses required will be: \", total_busses_required)"
   ]
  },
  {
   "cell_type": "markdown",
   "metadata": {},
   "source": [
    "## Problem 11\n",
    "\n",
    "The cost of a radio set is 1475. What is the cost of 35 such radio sets?"
   ]
  },
  {
   "cell_type": "code",
   "execution_count": 41,
   "metadata": {},
   "outputs": [
    {
     "name": "stdout",
     "output_type": "stream",
     "text": [
      "Cost of 35 Radio sets will be:  51625\n"
     ]
    }
   ],
   "source": [
    "cost_of_radio_set = 1475\n",
    "\n",
    "cost_of_35_radio = cost_of_radio_set * 35\n",
    "\n",
    "print(\"Cost of 35 Radio sets will be: \", cost_of_35_radio)"
   ]
  },
  {
   "cell_type": "markdown",
   "metadata": {},
   "source": [
    "## Problem 12\n",
    "\n",
    "n an election, 52496 people voted for Ron, 44929 people for Jhon and 36824 people for Mike in a town. If everyone voted in the town, what is the total number of voters?"
   ]
  },
  {
   "cell_type": "code",
   "execution_count": 37,
   "metadata": {},
   "outputs": [
    {
     "name": "stdout",
     "output_type": "stream",
     "text": [
      "Total number of voters in town are:  134249\n"
     ]
    }
   ],
   "source": [
    "ron_votes = 52496\n",
    "john_votes = 44929\n",
    "mike_votes = 36824\n",
    "\n",
    "total_voters = ron_votes + john_votes + mike_votes\n",
    "\n",
    "print(\"Total number of voters in town are: \", total_voters)"
   ]
  },
  {
   "cell_type": "markdown",
   "metadata": {},
   "source": [
    "## Problem 13\n",
    "\n",
    "Maria bought 96 toys priced equally for $12960. The amount of $1015 is still left with her. Find the cost of each toy and the amount she had"
   ]
  },
  {
   "cell_type": "code",
   "execution_count": 40,
   "metadata": {},
   "outputs": [
    {
     "name": "stdout",
     "output_type": "stream",
     "text": [
      "Cost of each toy is:  135.0\n",
      "She initially had:  13975\n"
     ]
    }
   ],
   "source": [
    "toys_bought = 96\n",
    "total_price = 12960\n",
    "amount_left = 1015\n",
    "\n",
    "cost_of_each_toy = total_price / 96\n",
    "amount_initial = total_price + amount_left\n",
    "\n",
    "print(\"Cost of each toy is: \", cost_of_each_toy)\n",
    "print(\"She initially had: \", amount_initial)"
   ]
  }
 ],
 "metadata": {
  "kernelspec": {
   "display_name": "base",
   "language": "python",
   "name": "python3"
  },
  "language_info": {
   "codemirror_mode": {
    "name": "ipython",
    "version": 3
   },
   "file_extension": ".py",
   "mimetype": "text/x-python",
   "name": "python",
   "nbconvert_exporter": "python",
   "pygments_lexer": "ipython3",
   "version": "3.11.5"
  }
 },
 "nbformat": 4,
 "nbformat_minor": 2
}
