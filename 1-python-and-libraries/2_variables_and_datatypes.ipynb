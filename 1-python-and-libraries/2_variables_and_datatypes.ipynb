{
 "cells": [
  {
   "cell_type": "markdown",
   "metadata": {},
   "source": [
    "## Variables & Dataypes in Python"
   ]
  },
  {
   "cell_type": "code",
   "execution_count": null,
   "metadata": {},
   "outputs": [],
   "source": [
    "# Asigning Variables\n",
    "color1, color2, color3 = \"Red\", \"Green\", \"Blue\""
   ]
  },
  {
   "cell_type": "code",
   "execution_count": 3,
   "metadata": {},
   "outputs": [
    {
     "name": "stdout",
     "output_type": "stream",
     "text": [
      "\n",
      "Hello How are you doing \n",
      "    My name is Atharva Maskar\n",
      "        This is a letter for everyone\n",
      "\n"
     ]
    }
   ],
   "source": [
    "# Multivariate Strings\n",
    "paragraph = '''\n",
    "Hello How are you doing \n",
    "    My name is Atharva Maskar\n",
    "        This is a letter for everyone\n",
    "'''\n",
    "\n",
    "print(paragraph)"
   ]
  },
  {
   "cell_type": "code",
   "execution_count": 2,
   "metadata": {},
   "outputs": [],
   "source": [
    "# String\n",
    "firstName = \"Atharva Maskar\"\n",
    "# Integer\n",
    "age = 20\n",
    "# Float\n",
    "weight = 21.23\n",
    "# Boolean\n",
    "isAdult = True\n",
    "# Tuple\n",
    "favouriteFood = [\"cheesecake\", \"chicken\", \"churros\"]\n"
   ]
  },
  {
   "cell_type": "code",
   "execution_count": 16,
   "metadata": {},
   "outputs": [
    {
     "name": "stdout",
     "output_type": "stream",
     "text": [
      "ATHARVA MASKAR\n",
      "atharva maskar\n",
      "Atharva maskar\n",
      "Swara Maskar\n",
      "['Eggs', ' Avocado', ' Chicken', ' Prawns']\n",
      "['Atharva', 'Maskar']\n",
      "This has aa lot of space sss\n"
     ]
    }
   ],
   "source": [
    "# String methods\n",
    "name = \"Atharva Maskar\"\n",
    "\n",
    "print(name.upper()) # Changes all characters to upper case\n",
    "print(name.lower()) # Changes all characters to lower case\n",
    "print(name.capitalize()) # Changes first character to uppercase\n",
    "\n",
    "# Replace method\n",
    "new_name = name.replace(\"Atharva\", \"Swara\")\n",
    "print(new_name)\n",
    "\n",
    "# Split Method\n",
    "grocery_list = \"Eggs, Avocado, Chicken, Prawns\"\n",
    "new_list = grocery_list.split(\",\")\n",
    "print(new_list)\n",
    "\n",
    "name = \"Atharva Maskar\"\n",
    "nameList = name.split(\" \")\n",
    "print(nameList)\n",
    "\n",
    "# Strip - Removes white spaces\n",
    "longString = \"     This has aa lot of space sss\"\n",
    "strippedString = longString.strip()\n",
    "\n",
    "print(strippedString)"
   ]
  },
  {
   "cell_type": "code",
   "execution_count": 32,
   "metadata": {},
   "outputs": [
    {
     "name": "stdout",
     "output_type": "stream",
     "text": [
      "Apple\n",
      "Pear\n",
      "['Apple', 'Banana', 'Chikoo']\n",
      "['Apple', 'Banana', 'Chikoo', 'Pear', 'Grapes']\n",
      "['Apple', 'Avocado', 'Banana', 'Chikoo', 'Pear', 'Grapes']\n",
      "['Apple', 'Avocado', 'Chikoo', 'Pear', 'Grapes']\n",
      "['Apple', 'Avocado', 'Chikoo', 'Pear']\n"
     ]
    },
    {
     "data": {
      "text/plain": [
       "True"
      ]
     },
     "execution_count": 32,
     "metadata": {},
     "output_type": "execute_result"
    }
   ],
   "source": [
    "# Lists\n",
    "\n",
    "fruits = [\"Apple\", \"Banana\", \"Chikoo\", \"Pear\"]\n",
    "print(fruits[0]) # Indexing from front\n",
    "print(fruits[-1]) # Indexing from back \n",
    "print(fruits[0:3]) # Starts from 0 till 3 - 1\n",
    "\n",
    "# Append method \n",
    "fruits.append(\"Grapes\")\n",
    "print(fruits)\n",
    "\n",
    "# Inserting at a position\n",
    "fruits.insert(1, \"Avocado\")\n",
    "print(fruits)\n",
    "\n",
    "# Remove method\n",
    "fruits.remove(\"Banana\")\n",
    "print(fruits)\n",
    "\n",
    "# Pop method\n",
    "fruits.pop()\n",
    "print(fruits)\n",
    "\n",
    "# Checking if something exists in the list\n",
    "'grapes' in fruits\n",
    "'Apple' in fruits"
   ]
  },
  {
   "cell_type": "markdown",
   "metadata": {},
   "source": [
    "##### Tuples\n",
    "\n",
    "A tuple is an ordered collection of values, similar to a list. However, it is not possible to add, remove, or modify values in a tuple. A tuple is created by enclosing values within parentheses ( and ), separated by commas."
   ]
  },
  {
   "cell_type": "code",
   "execution_count": 34,
   "metadata": {},
   "outputs": [
    {
     "name": "stdout",
     "output_type": "stream",
     "text": [
      "('apple', 'dates', 'cherry')\n"
     ]
    }
   ],
   "source": [
    "fruits = ('apple', 'dates', 'cherry')\n",
    "\n",
    "print(fruits)"
   ]
  },
  {
   "cell_type": "code",
   "execution_count": 43,
   "metadata": {},
   "outputs": [
    {
     "name": "stdout",
     "output_type": "stream",
     "text": [
      "{'name': 'John Doe', 'sex': 'Male', 'age': 32, 'married': True}\n"
     ]
    },
    {
     "data": {
      "text/plain": [
       "dict_items([('name', 'John Doe'), ('sex', 'Male'), ('age', 32), ('married', True)])"
      ]
     },
     "execution_count": 43,
     "metadata": {},
     "output_type": "execute_result"
    }
   ],
   "source": [
    "# Dictionary is same as object\n",
    "\n",
    "person1 = {\n",
    "    'name': 'John Doe',\n",
    "    'sex': 'Male',\n",
    "    'age': 32,\n",
    "    'married': True\n",
    "}\n",
    "\n",
    "print(person1)\n",
    "\n",
    "person2 = dict(name='Jane Judy', sex='Female', age=28, married=False)\n",
    "\n",
    "person1['name']\n",
    "\n",
    "# Prints keys\n",
    "person1.keys()\n",
    "\n",
    "# Prints values\n",
    "person1.values()\n",
    "\n",
    "\n",
    "# Prints items\n",
    "person1.items()\n"
   ]
  }
 ],
 "metadata": {
  "kernelspec": {
   "display_name": "base",
   "language": "python",
   "name": "python3"
  },
  "language_info": {
   "codemirror_mode": {
    "name": "ipython",
    "version": 3
   },
   "file_extension": ".py",
   "mimetype": "text/x-python",
   "name": "python",
   "nbconvert_exporter": "python",
   "pygments_lexer": "ipython3",
   "version": "3.11.5"
  }
 },
 "nbformat": 4,
 "nbformat_minor": 2
}
