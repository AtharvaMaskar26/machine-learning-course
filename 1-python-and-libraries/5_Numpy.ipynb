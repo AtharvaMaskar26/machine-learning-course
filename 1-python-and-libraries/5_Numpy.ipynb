{
 "cells": [
  {
   "cell_type": "markdown",
   "metadata": {},
   "source": [
    "### Numpy\n",
    "\n",
    "Numpy is a numberical computing tool that helps us to work with numerical data"
   ]
  },
  {
   "cell_type": "code",
   "execution_count": 13,
   "metadata": {},
   "outputs": [
    {
     "data": {
      "text/plain": [
       "56.8"
      ]
     },
     "execution_count": 13,
     "metadata": {},
     "output_type": "execute_result"
    }
   ],
   "source": [
    "w1, w2, w3 = [0.3, 0.2, 0.5]\n",
    "\n",
    "kanto = [73, 67, 43]\n",
    "john = [91, 88, 64]\n",
    "hoenn = [87, 134, 58]\n",
    "sinnoh = [102, 43, 37]\n",
    "unova = [69, 96, 70]\n",
    "\n",
    "weights = [w1, w2, w3]\n",
    "\n",
    "def crop_yeild(region, weights):\n",
    "    result = 0\n",
    "    for x, w in zip(region, weights): # Zip creates pair of 2 lists \n",
    "        result += x * w\n",
    "\n",
    "    return result\n",
    "\n",
    "crop_yeild(kanto, weights) \n"
   ]
  },
  {
   "cell_type": "markdown",
   "metadata": {},
   "source": [
    "The calculation performed by crop_yeild (element wise multiplication of two vectors and taking a sum of the result) is also called the dot product of two vectors. \n",
    "\n",
    "There is a Numpy Library that provides built in function to perform the dot product of 2 vectors. However the lists must be converted to numpy arrays before we can perform the operation. "
   ]
  },
  {
   "cell_type": "code",
   "execution_count": 15,
   "metadata": {},
   "outputs": [],
   "source": [
    "# Importing numpy\n",
    "import numpy as np\n",
    "# Default weight values \n",
    "w1, w2, w3 = [0.3, 0.2, 0.5]\n",
    "\n",
    "kanto = np.array([73, 67, 43])\n",
    "weights = np.array([w1, w2, w3])"
   ]
  },
  {
   "cell_type": "markdown",
   "metadata": {},
   "source": [
    "#### Dot Product of 2 arrays"
   ]
  },
  {
   "cell_type": "code",
   "execution_count": null,
   "metadata": {},
   "outputs": [],
   "source": [
    "np.dot(kanto, weights)"
   ]
  }
 ],
 "metadata": {
  "kernelspec": {
   "display_name": "base",
   "language": "python",
   "name": "python3"
  },
  "language_info": {
   "codemirror_mode": {
    "name": "ipython",
    "version": 3
   },
   "file_extension": ".py",
   "mimetype": "text/x-python",
   "name": "python",
   "nbconvert_exporter": "python",
   "pygments_lexer": "ipython3",
   "version": "3.11.5"
  }
 },
 "nbformat": 4,
 "nbformat_minor": 2
}
