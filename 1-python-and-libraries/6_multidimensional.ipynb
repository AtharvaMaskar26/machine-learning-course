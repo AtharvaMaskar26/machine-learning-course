{
 "cells": [
  {
   "cell_type": "markdown",
   "metadata": {},
   "source": [
    "### Multidimensional Arrays"
   ]
  },
  {
   "cell_type": "code",
   "execution_count": 11,
   "metadata": {},
   "outputs": [],
   "source": [
    "import numpy as np\n",
    "\n",
    "w1, w2, w3 = [0.3, 0.2, 0.5]\n",
    "\n",
    "climate_data = np.array([\n",
    "    [73, 57, 43], \n",
    "    [91, 88, 64], \n",
    "    [87, 134, 58], \n",
    "    [69, 96, 70]\n",
    "])\n",
    "\n",
    "weights = np.array([w1, w2, w3])"
   ]
  },
  {
   "cell_type": "code",
   "execution_count": 12,
   "metadata": {},
   "outputs": [
    {
     "data": {
      "text/plain": [
       "array([[ 73,  57,  43],\n",
       "       [ 91,  88,  64],\n",
       "       [ 87, 134,  58],\n",
       "       [ 69,  96,  70]])"
      ]
     },
     "execution_count": 12,
     "metadata": {},
     "output_type": "execute_result"
    }
   ],
   "source": [
    "climate_data"
   ]
  },
  {
   "cell_type": "code",
   "execution_count": 13,
   "metadata": {},
   "outputs": [
    {
     "data": {
      "text/plain": [
       "(4, 3)"
      ]
     },
     "execution_count": 13,
     "metadata": {},
     "output_type": "execute_result"
    }
   ],
   "source": [
    "# shapre function gives the shape of the matrix\n",
    "\n",
    "climate_data.shape # This gives answer is 4, 3 because there are 4 rows, and every row has 3 colums in it"
   ]
  },
  {
   "cell_type": "code",
   "execution_count": 14,
   "metadata": {},
   "outputs": [
    {
     "data": {
      "text/plain": [
       "(2, 3, 2)"
      ]
     },
     "execution_count": 14,
     "metadata": {},
     "output_type": "execute_result"
    }
   ],
   "source": [
    "arr1 = np.array([\n",
    "    [[21, 22], [23, 24], [25, 26]], \n",
    "    [[14, 15], [12, 11], [21, 32]]\n",
    "])\n",
    "\n",
    "arr1.shape # This gives answer as 2, 3, 2 because there are 2 rows having 3 columns having 2 colums inside each"
   ]
  },
  {
   "cell_type": "code",
   "execution_count": 15,
   "metadata": {},
   "outputs": [
    {
     "data": {
      "text/plain": [
       "dtype('int32')"
      ]
     },
     "execution_count": 15,
     "metadata": {},
     "output_type": "execute_result"
    }
   ],
   "source": [
    "arr1.dtype\n",
    "\n",
    "# If an array contains even single floating point number, then the entire array is converted into a floating type"
   ]
  },
  {
   "cell_type": "code",
   "execution_count": 18,
   "metadata": {},
   "outputs": [
    {
     "data": {
      "text/plain": [
       "array([54.8, 76.9, 81.9, 74.9])"
      ]
     },
     "execution_count": 18,
     "metadata": {},
     "output_type": "execute_result"
    }
   ],
   "source": [
    "# Matrix Multiplication \n",
    "\n",
    "np.matmul(climate_data, weights)\n",
    "\n",
    "# We can also do the same thing using \n",
    "climate_data @ weights"
   ]
  },
  {
   "cell_type": "markdown",
   "metadata": {},
   "source": [
    "### Problem "
   ]
  },
  {
   "cell_type": "code",
   "execution_count": 2,
   "metadata": {},
   "outputs": [],
   "source": [
    "# Helps to import datasets\n",
    "import urllib.request\n",
    "import numpy as np\n",
    "\n",
    "# Importing dataset\n",
    "urllib.request.urlretrieve(\n",
    "    'https://gist.github.com/BirajCoder/a4ffcb76fd6fb221d76ac2ee2b8584e9/raw/4054f90adfd361b7aa4255e99c2e874664094cea/climate.csv', \n",
    "    'climate.txt')\n",
    "\n",
    "climate_data = np.genfromtxt('climate.txt', delimiter=',', skip_header=1)"
   ]
  },
  {
   "cell_type": "code",
   "execution_count": 5,
   "metadata": {},
   "outputs": [
    {
     "data": {
      "text/plain": [
       "(10000, 3)"
      ]
     },
     "execution_count": 5,
     "metadata": {},
     "output_type": "execute_result"
    }
   ],
   "source": [
    "climate_data\n",
    "climate_data.shape"
   ]
  },
  {
   "cell_type": "code",
   "execution_count": 7,
   "metadata": {},
   "outputs": [
    {
     "data": {
      "text/plain": [
       "(10000,)"
      ]
     },
     "execution_count": 7,
     "metadata": {},
     "output_type": "execute_result"
    }
   ],
   "source": [
    "weights = np.array([0.3, 0.2, 0.5])\n",
    "\n",
    "yeilds = climate_data @ weights\n",
    "\n",
    "yeilds\n",
    "\n",
    "yeilds.shape"
   ]
  },
  {
   "cell_type": "code",
   "execution_count": 9,
   "metadata": {},
   "outputs": [
    {
     "data": {
      "text/plain": [
       "array([[25. , 76. , 99. , 72.2],\n",
       "       [39. , 65. , 70. , 59.7],\n",
       "       [59. , 45. , 77. , 65.2],\n",
       "       ...,\n",
       "       [99. , 62. , 58. , 71.1],\n",
       "       [70. , 71. , 91. , 80.7],\n",
       "       [92. , 39. , 76. , 73.4]])"
      ]
     },
     "execution_count": 9,
     "metadata": {},
     "output_type": "execute_result"
    }
   ],
   "source": [
    "# Now we add the yeilds column to the climate data section\n",
    "# Axis 0 means concatenating the data ias a new row\n",
    "# Axis 1 means concatenating the data as a new column\n",
    "\n",
    "\n",
    "# What does .reshape function do?\n",
    "# It reshapes the array in a given order. Here we reshape the array having 10000 rows and 1 column\n",
    "\n",
    "climate_result = np.concatenate((climate_data, yeilds.reshape(10000, 1)), axis=1)\n",
    "\n",
    "climate_result"
   ]
  },
  {
   "cell_type": "code",
   "execution_count": 17,
   "metadata": {},
   "outputs": [],
   "source": [
    "# Write the changes to a file \n",
    "np.savetxt('climate_result.txt', \n",
    "           climate_result, \n",
    "           fmt=\"%.2f\",\n",
    "           header=\"temperature, rainfall, humidity, yeild_apples\",\n",
    "           comments=''\n",
    "        )\n",
    "\n",
    "# What does the comments section do?\n",
    "# This adds a particular symbol to the txt file, usually # so while reading it, it starts with comments\n"
   ]
  },
  {
   "cell_type": "markdown",
   "metadata": {},
   "source": [
    "### Arithmetic Operations with numpy"
   ]
  },
  {
   "cell_type": "code",
   "execution_count": 21,
   "metadata": {},
   "outputs": [
    {
     "data": {
      "text/plain": [
       "(3, 4)"
      ]
     },
     "execution_count": 21,
     "metadata": {},
     "output_type": "execute_result"
    }
   ],
   "source": [
    "import numpy as np\n",
    "\n",
    "arr2 = np.array([\n",
    "    [1, 2, 3, 4], \n",
    "    [5, 6, 7, 8], \n",
    "    [9, 10, 11, 12]\n",
    "])\n",
    "\n",
    "arr3 = np.array([\n",
    "    [1, 1, 1, 1], \n",
    "    [2, 3, 4, 5],  \n",
    "    [2, 2, 2, 2]\n",
    "])\n",
    "\n",
    "result = arr2 + arr3\n",
    "\n",
    "# Every element will be added with 10\n",
    "result + 10\n",
    "\n",
    "# Elementwise subtraction\n",
    "result - arr2\n",
    "\n",
    "# Similarly you can do all arithmetic operations\n",
    "result.shape"
   ]
  },
  {
   "cell_type": "markdown",
   "metadata": {},
   "source": [
    "### Creating arrays"
   ]
  },
  {
   "cell_type": "code",
   "execution_count": 42,
   "metadata": {},
   "outputs": [
    {
     "data": {
      "text/plain": [
       "array([ 3.,  6.,  9., 12., 15., 18., 21., 24., 27.])"
      ]
     },
     "execution_count": 42,
     "metadata": {},
     "output_type": "execute_result"
    }
   ],
   "source": [
    "# All zeros\n",
    "arr_zero = np.zeros((3, 2))\n",
    "\n",
    "# All ones\n",
    "arr_one = np.ones([2, 2, 3])\n",
    "arr_one\n",
    "\n",
    "# Identity Matrix\n",
    "arr_iden = np.eye(3)\n",
    "\n",
    "# Random Vector\n",
    "np.random.rand(5)\n",
    "\n",
    "# Random matrix\n",
    "np.random.randn(2, 3)\n",
    "\n",
    "# What is the difference between randn and rand\n",
    "# randn generates random numbers with mean = 0 and variance = 1, it is majorly used in statistical purposes \n",
    "# rand generated random numbers from 0 to 1, it is used for general purposes to declare random weights\n",
    "\n",
    "# Range with start, end and step \n",
    "np.arange(10, 90, 3)\n",
    "\n",
    "# Equally spaced out numbers, here we say we want to start with 3 and end with 27 and want to have 9 elements equallt spaced\n",
    "np.linspace(3, 27, 9)\n"
   ]
  }
 ],
 "metadata": {
  "kernelspec": {
   "display_name": "base",
   "language": "python",
   "name": "python3"
  },
  "language_info": {
   "codemirror_mode": {
    "name": "ipython",
    "version": 3
   },
   "file_extension": ".py",
   "mimetype": "text/x-python",
   "name": "python",
   "nbconvert_exporter": "python",
   "pygments_lexer": "ipython3",
   "version": "3.11.5"
  }
 },
 "nbformat": 4,
 "nbformat_minor": 2
}
