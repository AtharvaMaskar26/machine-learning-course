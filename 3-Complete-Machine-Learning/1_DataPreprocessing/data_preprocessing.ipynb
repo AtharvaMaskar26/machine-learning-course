{
 "cells": [
  {
   "cell_type": "markdown",
   "metadata": {},
   "source": [
    "### Data Preprocessing "
   ]
  },
  {
   "cell_type": "markdown",
   "metadata": {},
   "source": [
    "##### Importing Libraries"
   ]
  },
  {
   "cell_type": "code",
   "execution_count": 1,
   "metadata": {},
   "outputs": [],
   "source": [
    "import numpy as np \n",
    "import pandas as pd \n",
    "import matplotlib.pyplot as plt "
   ]
  },
  {
   "cell_type": "markdown",
   "metadata": {},
   "source": [
    "##### Importing Dataset"
   ]
  },
  {
   "cell_type": "code",
   "execution_count": 18,
   "metadata": {},
   "outputs": [],
   "source": [
    "# Importing the dataset\n",
    "dataset = pd.read_csv('Data.csv')\n",
    "\n",
    "# Defining Dependent and Independent variables \n",
    "independent_variables = dataset.iloc[:, :-1].values\n",
    "dependent_variables = dataset.iloc[:, -1:].values"
   ]
  },
  {
   "cell_type": "markdown",
   "metadata": {},
   "source": [
    "##### Taking care of missing data"
   ]
  },
  {
   "cell_type": "code",
   "execution_count": 175,
   "metadata": {},
   "outputs": [
    {
     "data": {
      "text/plain": [
       "array([[0.0, 1.0, 0.0, 1.0, 0.0, 1.0, 0.0, 0.0, 44.0, 72000.0],\n",
       "       [1.0, 0.0, 1.0, 0.0, 1.0, 0.0, 0.0, 1.0, 27.0, 48000.0],\n",
       "       [1.0, 0.0, 1.0, 0.0, 1.0, 0.0, 1.0, 0.0, 30.0, 54000.0],\n",
       "       [1.0, 0.0, 1.0, 0.0, 1.0, 0.0, 0.0, 1.0, 38.0, 61000.0],\n",
       "       [1.0, 0.0, 1.0, 0.0, 1.0, 0.0, 1.0, 0.0, 40.0, 63777.77777777778],\n",
       "       [0.0, 1.0, 0.0, 1.0, 0.0, 1.0, 0.0, 0.0, 35.0, 58000.0],\n",
       "       [1.0, 0.0, 1.0, 0.0, 1.0, 0.0, 0.0, 1.0, 38.77777777777778,\n",
       "        52000.0],\n",
       "       [0.0, 1.0, 0.0, 1.0, 0.0, 1.0, 0.0, 0.0, 48.0, 79000.0],\n",
       "       [1.0, 0.0, 1.0, 0.0, 1.0, 0.0, 1.0, 0.0, 50.0, 83000.0],\n",
       "       [0.0, 1.0, 0.0, 1.0, 0.0, 1.0, 0.0, 0.0, 37.0, 67000.0]],\n",
       "      dtype=object)"
      ]
     },
     "execution_count": 175,
     "metadata": {},
     "output_type": "execute_result"
    }
   ],
   "source": [
    "# Replacing the missing values with the average of all the salaries\n",
    "# You can choose any method mean, median or anything according to your usecase \n",
    "from sklearn.impute import SimpleImputer\n",
    "\n",
    "# This means replace all the missin/nan values with the mean\n",
    "imputer = SimpleImputer(missing_values=np.nan, strategy='mean')\n",
    "\n",
    "# This will replace the values \n",
    "imputer.fit(independent_variables[:, 1:3])\n",
    "# The transform function returns a table with array filled with missing values \n",
    "independent_variables[:, 1:3] = imputer.transform(independent_variables[:, 1:3])\n",
    "\n",
    "independent_variables\n"
   ]
  },
  {
   "cell_type": "markdown",
   "metadata": {},
   "source": [
    "### Encoding Categorical Data"
   ]
  },
  {
   "cell_type": "code",
   "execution_count": 76,
   "metadata": {},
   "outputs": [
    {
     "name": "stderr",
     "output_type": "stream",
     "text": [
      "c:\\Users\\athar\\anaconda3\\Lib\\site-packages\\sklearn\\preprocessing\\_label.py:114: DataConversionWarning: A column-vector y was passed when a 1d array was expected. Please change the shape of y to (n_samples, ), for example using ravel().\n",
      "  y = column_or_1d(y, warn=True)\n"
     ]
    }
   ],
   "source": [
    "# Here we need a way to encode the strings such that it is not in a numberical format but not also in a string format\n",
    "\n",
    "# If it was in a numerical format, further machine learning model would think that there is some numerical relation between the countries and other values. \n",
    "# Using string, machine would not be able to understand exactly what it is \n",
    "\n",
    "# 1. encoding the independent variable\n",
    "from sklearn.compose import ColumnTransformer\n",
    "from sklearn.preprocessing import OneHotEncoder\n",
    "\n",
    "ct = ColumnTransformer(transformers= [('encoder', OneHotEncoder(), [0])], remainder='passthrough')\n",
    "independent_variables = np.array(ct.fit_transform(independent_variables))\n",
    "\n",
    "# 2. Encoding Dependent variable \n",
    "from sklearn.preprocessing import LabelEncoder\n",
    "le = LabelEncoder()\n",
    "dependent_variables = le.fit_transform(dependent_variables)"
   ]
  },
  {
   "cell_type": "markdown",
   "metadata": {},
   "source": [
    "### Splitting the dataset into the Training set and Test set\n",
    "\n",
    "Here we split the dataset into two different sets, one that we use to train the data and the other that we use to test the dataset "
   ]
  },
  {
   "cell_type": "markdown",
   "metadata": {},
   "source": [
    "#### Feature Scaling \n",
    "\n",
    "Feature scaling gets us the mean and median of a dataset\n",
    "We do feature scaling after spliting the dataset, because if we do it before splitting then we get the mean of the entire dataset including the test dataset\n"
   ]
  },
  {
   "cell_type": "code",
   "execution_count": 178,
   "metadata": {},
   "outputs": [],
   "source": [
    "from sklearn.model_selection import train_test_split\n",
    "\n",
    "# We take 80 pecent for training and 20 percent for testing\n",
    "X_Train, X_test, y_train, y_test = train_test_split(independent_variables, dependent_variables,test_size=0.2, random_state=1)"
   ]
  },
  {
   "cell_type": "code",
   "execution_count": 180,
   "metadata": {},
   "outputs": [
    {
     "data": {
      "text/plain": [
       "array([[1.0, 0.0, 1.0, 0.0, 1.0, 0.0, 0.0, 1.0, 38.77777777777778,\n",
       "        52000.0],\n",
       "       [1.0, 0.0, 1.0, 0.0, 1.0, 0.0, 1.0, 0.0, 40.0, 63777.77777777778],\n",
       "       [0.0, 1.0, 0.0, 1.0, 0.0, 1.0, 0.0, 0.0, 44.0, 72000.0],\n",
       "       [1.0, 0.0, 1.0, 0.0, 1.0, 0.0, 0.0, 1.0, 38.0, 61000.0],\n",
       "       [1.0, 0.0, 1.0, 0.0, 1.0, 0.0, 0.0, 1.0, 27.0, 48000.0],\n",
       "       [0.0, 1.0, 0.0, 1.0, 0.0, 1.0, 0.0, 0.0, 48.0, 79000.0],\n",
       "       [1.0, 0.0, 1.0, 0.0, 1.0, 0.0, 1.0, 0.0, 50.0, 83000.0],\n",
       "       [0.0, 1.0, 0.0, 1.0, 0.0, 1.0, 0.0, 0.0, 35.0, 58000.0]],\n",
       "      dtype=object)"
      ]
     },
     "execution_count": 180,
     "metadata": {},
     "output_type": "execute_result"
    }
   ],
   "source": [
    "X_Train"
   ]
  },
  {
   "cell_type": "code",
   "execution_count": 182,
   "metadata": {},
   "outputs": [
    {
     "data": {
      "text/plain": [
       "array([[1.0, 0.0, 1.0, 0.0, 1.0, 0.0, 1.0, 0.0, 30.0, 54000.0],\n",
       "       [0.0, 1.0, 0.0, 1.0, 0.0, 1.0, 0.0, 0.0, 37.0, 67000.0]],\n",
       "      dtype=object)"
      ]
     },
     "execution_count": 182,
     "metadata": {},
     "output_type": "execute_result"
    }
   ],
   "source": [
    "X_test"
   ]
  },
  {
   "cell_type": "code",
   "execution_count": 183,
   "metadata": {},
   "outputs": [
    {
     "data": {
      "text/plain": [
       "array([0, 1, 0, 0, 1, 1, 0, 1], dtype=int64)"
      ]
     },
     "execution_count": 183,
     "metadata": {},
     "output_type": "execute_result"
    }
   ],
   "source": [
    "y_train"
   ]
  },
  {
   "cell_type": "code",
   "execution_count": 184,
   "metadata": {},
   "outputs": [
    {
     "data": {
      "text/plain": [
       "array([0, 1], dtype=int64)"
      ]
     },
     "execution_count": 184,
     "metadata": {},
     "output_type": "execute_result"
    }
   ],
   "source": [
    "y_test"
   ]
  },
  {
   "attachments": {
    "image.png": {
     "image/png": "[encoded data removed]"
    }
   },
   "cell_type": "markdown",
   "metadata": {},
   "source": [
    "##### Feature scaling \n",
    "\n",
    "![image.png](attachment:image.png)\n",
    "\n",
    "Normalisation is recommended when you have a normalization relation between all your values \n",
    "Standardization works well all the time!\n",
    "\n",
    "So it's a good thing to go with Standardization"
   ]
  },
  {
   "cell_type": "code",
   "execution_count": 197,
   "metadata": {},
   "outputs": [],
   "source": [
    "# Importing sklearn library for standarization\n",
    "from sklearn.preprocessing import StandardScaler\n",
    "\n",
    "# Initializing the standard scalar class\n",
    "sc = StandardScaler()\n",
    "\n",
    "# We apply standardization only on our numerical values and not on dummy values like country \n",
    "X_Train[:, 3:] = sc.fit_transform(X_Train[:, 3:])\n",
    "X_test[:, 3:] = sc.fit_transform(X_test[:, 3:])\n"
   ]
  },
  {
   "cell_type": "code",
   "execution_count": 198,
   "metadata": {},
   "outputs": [
    {
     "name": "stdout",
     "output_type": "stream",
     "text": [
      "[[ 6.1         3.          4.6         0.23380268]\n",
      " [ 7.7         3.          6.1         1.39742892]\n",
      " [ 5.6         2.5         3.9        -0.15407273]\n",
      " [ 6.4         2.8         5.6         1.13884531]\n",
      " [ 5.8         2.8         5.1         1.52672073]\n",
      " [ 5.3         3.7         1.5        -1.31769898]\n",
      " [ 5.5         2.3         4.          0.10451088]\n",
      " [ 5.2         3.4         1.4        -1.31769898]\n",
      " [ 6.5         2.8         4.6         0.36309449]\n",
      " [ 6.7         2.5         5.8         0.7509699 ]\n",
      " [ 6.8         3.          5.5         1.13884531]\n",
      " [ 5.1         3.5         1.4        -1.18840717]\n",
      " [ 6.          2.2         5.          0.36309449]\n",
      " [ 6.3         2.9         5.6         0.7509699 ]\n",
      " [ 6.6         2.9         4.6         0.10451088]\n",
      " [ 7.7         2.6         6.9         1.39742892]\n",
      " [ 5.7         3.8         1.7        -1.18840717]\n",
      " [ 5.          3.6         1.4        -1.31769898]\n",
      " [ 4.8         3.          1.4        -1.18840717]\n",
      " [ 5.2         2.7         3.9         0.23380268]\n",
      " [ 5.1         3.4         1.5        -1.31769898]\n",
      " [ 5.5         3.5         1.3        -1.31769898]\n",
      " [ 7.7         3.8         6.7         1.26813712]\n",
      " [ 6.9         3.1         5.4         1.13884531]\n",
      " [ 7.3         2.9         6.3         0.7509699 ]\n",
      " [ 6.4         2.8         5.6         1.26813712]\n",
      " [ 6.2         2.8         4.8         0.7509699 ]\n",
      " [ 6.          3.4         4.5         0.49238629]\n",
      " [ 7.7         2.8         6.7         1.00955351]\n",
      " [ 5.7         3.          4.2        -0.02478093]\n",
      " [ 4.8         3.4         1.6        -1.31769898]\n",
      " [ 5.7         2.5         5.          1.00955351]\n",
      " [ 6.3         2.7         4.9         0.7509699 ]\n",
      " [ 4.8         3.          1.4        -1.44699078]\n",
      " [ 4.7         3.2         1.3        -1.31769898]\n",
      " [ 6.5         3.          5.8         1.26813712]\n",
      " [ 4.6         3.4         1.4        -1.18840717]\n",
      " [ 6.1         3.          4.9         0.7509699 ]\n",
      " [ 6.5         3.2         5.1         1.00955351]\n",
      " [ 6.7         3.1         4.4         0.23380268]\n",
      " [ 5.7         2.8         4.5         0.10451088]\n",
      " [ 6.7         3.3         5.7         1.65601253]\n",
      " [ 6.          3.          4.8         0.7509699 ]\n",
      " [ 5.1         3.8         1.6        -1.31769898]\n",
      " [ 6.          2.2         4.         -0.28336454]\n",
      " [ 6.4         2.9         4.3         0.10451088]\n",
      " [ 6.5         3.          5.5         0.7509699 ]\n",
      " [ 5.          2.3         3.3        -0.28336454]\n",
      " [ 6.3         3.3         6.          1.65601253]\n",
      " [ 5.5         2.5         4.          0.10451088]\n",
      " [ 5.4         3.7         1.5        -1.31769898]\n",
      " [ 4.9         3.1         1.5        -1.31769898]\n",
      " [ 5.2         4.1         1.5        -1.44699078]\n",
      " [ 6.7         3.3         5.7         1.13884531]\n",
      " [ 4.4         3.          1.3        -1.31769898]\n",
      " [ 6.          2.7         5.1         0.49238629]\n",
      " [ 6.4         2.7         5.3         0.8802617 ]\n",
      " [ 5.9         3.          5.1         0.7509699 ]\n",
      " [ 5.2         3.5         1.5        -1.31769898]\n",
      " [ 5.1         3.3         1.7        -0.92982356]\n",
      " [ 5.8         2.7         4.1        -0.28336454]\n",
      " [ 4.9         3.1         1.5        -1.44699078]\n",
      " [ 7.4         2.8         6.1         0.8802617 ]\n",
      " [ 6.2         2.9         4.3         0.10451088]\n",
      " [ 7.6         3.          6.6         1.13884531]\n",
      " [ 6.7         3.          5.2         1.39742892]\n",
      " [ 6.3         2.3         4.4         0.10451088]\n",
      " [ 6.2         3.4         5.4         1.39742892]\n",
      " [ 7.2         3.6         6.1         1.65601253]\n",
      " [ 5.6         2.9         3.6         0.10451088]\n",
      " [ 5.7         4.4         1.5        -1.05911537]\n",
      " [ 5.8         2.7         3.9        -0.02478093]\n",
      " [ 4.5         2.3         1.3        -1.18840717]\n",
      " [ 5.5         2.4         3.8        -0.15407273]\n",
      " [ 6.9         3.1         4.9         0.36309449]\n",
      " [ 5.          3.4         1.6        -1.05911537]\n",
      " [ 6.8         2.8         4.8         0.23380268]\n",
      " [ 5.          3.5         1.6        -0.80053176]\n",
      " [ 4.8         3.4         1.9        -1.31769898]\n",
      " [ 6.3         3.4         5.6         1.52672073]\n",
      " [ 5.6         2.8         4.9         1.00955351]\n",
      " [ 6.8         3.2         5.9         1.39742892]\n",
      " [ 5.          3.3         1.4        -1.31769898]\n",
      " [ 5.1         3.7         1.5        -1.05911537]\n",
      " [ 5.9         3.2         4.8         0.7509699 ]\n",
      " [ 4.6         3.1         1.5        -1.31769898]\n",
      " [ 5.8         2.7         5.1         0.8802617 ]\n",
      " [ 4.8         3.1         1.6        -1.31769898]\n",
      " [ 6.5         3.          5.2         1.00955351]\n",
      " [ 4.9         2.5         4.5         0.62167809]\n",
      " [ 4.6         3.2         1.4        -1.31769898]\n",
      " [ 6.4         3.2         5.3         1.39742892]\n",
      " [ 4.3         3.          1.1        -1.44699078]\n",
      " [ 5.6         3.          4.1         0.10451088]\n",
      " [ 4.4         2.9         1.4        -1.31769898]\n",
      " [ 5.5         2.4         3.7        -0.28336454]\n",
      " [ 5.          2.          3.5        -0.28336454]\n",
      " [ 5.1         3.5         1.4        -1.31769898]\n",
      " [ 4.9         3.          1.4        -1.31769898]\n",
      " [ 4.9         2.4         3.3        -0.28336454]\n",
      " [ 4.6         3.6         1.         -1.31769898]\n",
      " [ 5.9         3.          4.2         0.36309449]\n",
      " [ 6.1         2.9         4.7         0.23380268]\n",
      " [ 5.          3.4         1.5        -1.31769898]\n",
      " [ 6.7         3.1         4.7         0.36309449]\n",
      " [ 5.7         2.9         4.2         0.10451088]\n",
      " [ 6.2         2.2         4.5         0.36309449]\n",
      " [ 7.          3.2         4.7         0.23380268]\n",
      " [ 5.8         2.7         5.1         0.8802617 ]\n",
      " [ 5.4         3.4         1.7        -1.31769898]\n",
      " [ 5.          3.          1.6        -1.31769898]\n",
      " [ 6.1         2.6         5.6         0.23380268]\n",
      " [ 6.1         2.8         4.          0.10451088]\n",
      " [ 7.2         3.          5.8         0.49238629]\n",
      " [ 5.7         2.6         3.5        -0.28336454]\n",
      " [ 6.3         2.8         5.1         0.36309449]\n",
      " [ 6.4         3.1         5.5         0.7509699 ]\n",
      " [ 6.3         2.5         4.9         0.36309449]\n",
      " [ 6.7         3.1         5.6         1.52672073]\n",
      " [ 4.9         3.6         1.4        -1.44699078]]\n",
      "[[ 5.8         4.          1.2        -1.32113381]\n",
      " [ 5.1         2.5         3.         -0.0287203 ]\n",
      " [ 6.6         3.          4.4         0.4020842 ]\n",
      " [ 5.4         3.9         1.3        -1.03393081]\n",
      " [ 7.9         3.8         6.4         1.26369321]\n",
      " [ 6.3         3.3         4.7         0.68928721]\n",
      " [ 6.9         3.1         5.1         1.69449772]\n",
      " [ 5.1         3.8         1.9        -1.03393081]\n",
      " [ 4.7         3.2         1.6        -1.32113381]\n",
      " [ 6.9         3.2         5.7         1.69449772]\n",
      " [ 5.6         2.7         4.2         0.2584827 ]\n",
      " [ 5.4         3.9         1.7        -1.03393081]\n",
      " [ 7.1         3.          5.9         1.40729472]\n",
      " [ 6.4         3.2         4.5         0.54568571]\n",
      " [ 6.          2.9         4.5         0.54568571]\n",
      " [ 4.4         3.2         1.3        -1.32113381]\n",
      " [ 5.8         2.6         4.          0.1148812 ]\n",
      " [ 5.6         3.          4.5         0.54568571]\n",
      " [ 5.4         3.4         1.5        -1.03393081]\n",
      " [ 5.          3.2         1.2        -1.32113381]\n",
      " [ 5.5         2.6         4.4         0.1148812 ]\n",
      " [ 5.4         3.          4.5         0.54568571]\n",
      " [ 6.7         3.          5.          0.83288871]\n",
      " [ 5.          3.5         1.3        -1.17753231]\n",
      " [ 7.2         3.2         6.          0.97649021]\n",
      " [ 5.7         2.8         4.1         0.2584827 ]\n",
      " [ 5.5         4.2         1.4        -1.32113381]\n",
      " [ 5.1         3.8         1.5        -1.17753231]\n",
      " [ 6.1         2.8         4.7         0.1148812 ]\n",
      " [ 6.3         2.5         5.          1.12009171]]\n"
     ]
    }
   ],
   "source": [
    "print(X_Train)\n",
    "print(X_test)"
   ]
  },
  {
   "cell_type": "markdown",
   "metadata": {},
   "source": [
    "##### Example 1"
   ]
  },
  {
   "cell_type": "code",
   "execution_count": 36,
   "metadata": {},
   "outputs": [
    {
     "name": "stdout",
     "output_type": "stream",
     "text": [
      "[[5.1 3.5 1.4 0.2]\n",
      " [4.9 3.  1.4 0.2]\n",
      " [4.7 3.2 1.3 0.2]\n",
      " [4.6 3.1 1.5 0.2]\n",
      " [5.  3.6 1.4 0.2]\n",
      " [5.4 3.9 1.7 0.4]\n",
      " [4.6 3.4 1.4 0.3]\n",
      " [5.  3.4 1.5 0.2]\n",
      " [4.4 2.9 1.4 0.2]\n",
      " [4.9 3.1 1.5 0.1]\n",
      " [5.4 3.7 1.5 0.2]\n",
      " [4.8 3.4 1.6 0.2]\n",
      " [4.8 3.  1.4 0.1]\n",
      " [4.3 3.  1.1 0.1]\n",
      " [5.8 4.  1.2 0.2]\n",
      " [5.7 4.4 1.5 0.4]\n",
      " [5.4 3.9 1.3 0.4]\n",
      " [5.1 3.5 1.4 0.3]\n",
      " [5.7 3.8 1.7 0.3]\n",
      " [5.1 3.8 1.5 0.3]\n",
      " [5.4 3.4 1.7 0.2]\n",
      " [5.1 3.7 1.5 0.4]\n",
      " [4.6 3.6 1.  0.2]\n",
      " [5.1 3.3 1.7 0.5]\n",
      " [4.8 3.4 1.9 0.2]\n",
      " [5.  3.  1.6 0.2]\n",
      " [5.  3.4 1.6 0.4]\n",
      " [5.2 3.5 1.5 0.2]\n",
      " [5.2 3.4 1.4 0.2]\n",
      " [4.7 3.2 1.6 0.2]\n",
      " [4.8 3.1 1.6 0.2]\n",
      " [5.4 3.4 1.5 0.4]\n",
      " [5.2 4.1 1.5 0.1]\n",
      " [5.5 4.2 1.4 0.2]\n",
      " [4.9 3.1 1.5 0.2]\n",
      " [5.  3.2 1.2 0.2]\n",
      " [5.5 3.5 1.3 0.2]\n",
      " [4.9 3.6 1.4 0.1]\n",
      " [4.4 3.  1.3 0.2]\n",
      " [5.1 3.4 1.5 0.2]\n",
      " [5.  3.5 1.3 0.3]\n",
      " [4.5 2.3 1.3 0.3]\n",
      " [4.4 3.2 1.3 0.2]\n",
      " [5.  3.5 1.6 0.6]\n",
      " [5.1 3.8 1.9 0.4]\n",
      " [4.8 3.  1.4 0.3]\n",
      " [5.1 3.8 1.6 0.2]\n",
      " [4.6 3.2 1.4 0.2]\n",
      " [5.3 3.7 1.5 0.2]\n",
      " [5.  3.3 1.4 0.2]\n",
      " [7.  3.2 4.7 1.4]\n",
      " [6.4 3.2 4.5 1.5]\n",
      " [6.9 3.1 4.9 1.5]\n",
      " [5.5 2.3 4.  1.3]\n",
      " [6.5 2.8 4.6 1.5]\n",
      " [5.7 2.8 4.5 1.3]\n",
      " [6.3 3.3 4.7 1.6]\n",
      " [4.9 2.4 3.3 1. ]\n",
      " [6.6 2.9 4.6 1.3]\n",
      " [5.2 2.7 3.9 1.4]\n",
      " [5.  2.  3.5 1. ]\n",
      " [5.9 3.  4.2 1.5]\n",
      " [6.  2.2 4.  1. ]\n",
      " [6.1 2.9 4.7 1.4]\n",
      " [5.6 2.9 3.6 1.3]\n",
      " [6.7 3.1 4.4 1.4]\n",
      " [5.6 3.  4.5 1.5]\n",
      " [5.8 2.7 4.1 1. ]\n",
      " [6.2 2.2 4.5 1.5]\n",
      " [5.6 2.5 3.9 1.1]\n",
      " [5.9 3.2 4.8 1.8]\n",
      " [6.1 2.8 4.  1.3]\n",
      " [6.3 2.5 4.9 1.5]\n",
      " [6.1 2.8 4.7 1.2]\n",
      " [6.4 2.9 4.3 1.3]\n",
      " [6.6 3.  4.4 1.4]\n",
      " [6.8 2.8 4.8 1.4]\n",
      " [6.7 3.  5.  1.7]\n",
      " [6.  2.9 4.5 1.5]\n",
      " [5.7 2.6 3.5 1. ]\n",
      " [5.5 2.4 3.8 1.1]\n",
      " [5.5 2.4 3.7 1. ]\n",
      " [5.8 2.7 3.9 1.2]\n",
      " [6.  2.7 5.1 1.6]\n",
      " [5.4 3.  4.5 1.5]\n",
      " [6.  3.4 4.5 1.6]\n",
      " [6.7 3.1 4.7 1.5]\n",
      " [6.3 2.3 4.4 1.3]\n",
      " [5.6 3.  4.1 1.3]\n",
      " [5.5 2.5 4.  1.3]\n",
      " [5.5 2.6 4.4 1.2]\n",
      " [6.1 3.  4.6 1.4]\n",
      " [5.8 2.6 4.  1.2]\n",
      " [5.  2.3 3.3 1. ]\n",
      " [5.6 2.7 4.2 1.3]\n",
      " [5.7 3.  4.2 1.2]\n",
      " [5.7 2.9 4.2 1.3]\n",
      " [6.2 2.9 4.3 1.3]\n",
      " [5.1 2.5 3.  1.1]\n",
      " [5.7 2.8 4.1 1.3]\n",
      " [6.3 3.3 6.  2.5]\n",
      " [5.8 2.7 5.1 1.9]\n",
      " [7.1 3.  5.9 2.1]\n",
      " [6.3 2.9 5.6 1.8]\n",
      " [6.5 3.  5.8 2.2]\n",
      " [7.6 3.  6.6 2.1]\n",
      " [4.9 2.5 4.5 1.7]\n",
      " [7.3 2.9 6.3 1.8]\n",
      " [6.7 2.5 5.8 1.8]\n",
      " [7.2 3.6 6.1 2.5]\n",
      " [6.5 3.2 5.1 2. ]\n",
      " [6.4 2.7 5.3 1.9]\n",
      " [6.8 3.  5.5 2.1]\n",
      " [5.7 2.5 5.  2. ]\n",
      " [5.8 2.8 5.1 2.4]\n",
      " [6.4 3.2 5.3 2.3]\n",
      " [6.5 3.  5.5 1.8]\n",
      " [7.7 3.8 6.7 2.2]\n",
      " [7.7 2.6 6.9 2.3]\n",
      " [6.  2.2 5.  1.5]\n",
      " [6.9 3.2 5.7 2.3]\n",
      " [5.6 2.8 4.9 2. ]\n",
      " [7.7 2.8 6.7 2. ]\n",
      " [6.3 2.7 4.9 1.8]\n",
      " [6.7 3.3 5.7 2.1]\n",
      " [7.2 3.2 6.  1.8]\n",
      " [6.2 2.8 4.8 1.8]\n",
      " [6.1 3.  4.9 1.8]\n",
      " [6.4 2.8 5.6 2.1]\n",
      " [7.2 3.  5.8 1.6]\n",
      " [7.4 2.8 6.1 1.9]\n",
      " [7.9 3.8 6.4 2. ]\n",
      " [6.4 2.8 5.6 2.2]\n",
      " [6.3 2.8 5.1 1.5]\n",
      " [6.1 2.6 5.6 1.4]\n",
      " [7.7 3.  6.1 2.3]\n",
      " [6.3 3.4 5.6 2.4]\n",
      " [6.4 3.1 5.5 1.8]\n",
      " [6.  3.  4.8 1.8]\n",
      " [6.9 3.1 5.4 2.1]\n",
      " [6.7 3.1 5.6 2.4]\n",
      " [6.9 3.1 5.1 2.3]\n",
      " [5.8 2.7 5.1 1.9]\n",
      " [6.8 3.2 5.9 2.3]\n",
      " [6.7 3.3 5.7 2.5]\n",
      " [6.7 3.  5.2 2.3]\n",
      " [6.3 2.5 5.  1.9]\n",
      " [6.5 3.  5.2 2. ]\n",
      " [6.2 3.4 5.4 2.3]\n",
      " [5.9 3.  5.1 1.8]] [0 0 0 0 0 0 0 0 0 0 0 0 0 0 0 0 0 0 0 0 0 0 0 0 0 0 0 0 0 0 0 0 0 0 0 0 0\n",
      " 0 0 0 0 0 0 0 0 0 0 0 0 0 1 1 1 1 1 1 1 1 1 1 1 1 1 1 1 1 1 1 1 1 1 1 1 1\n",
      " 1 1 1 1 1 1 1 1 1 1 1 1 1 1 1 1 1 1 1 1 1 1 1 1 1 1 2 2 2 2 2 2 2 2 2 2 2\n",
      " 2 2 2 2 2 2 2 2 2 2 2 2 2 2 2 2 2 2 2 2 2 2 2 2 2 2 2 2 2 2 2 2 2 2 2 2 2\n",
      " 2 2]\n"
     ]
    }
   ],
   "source": [
    "# Importing the necessary libraries\n",
    "import pandas as pd\n",
    "import numpy as np \n",
    "from sklearn.model_selection import train_test_split\n",
    "\n",
    "# Loading the Iris dataset\n",
    "dataset = pd.read_csv('iris.csv')\n",
    "\n",
    "# Creating the matrix of features (X) and the dependent variable vector (y)\n",
    "X = dataset.iloc[:, :-1].values\n",
    "y = dataset.iloc[:, -1].values\n",
    "\n",
    "# Printing the matrix of features and the dependent variable vector\n",
    "print(X, y)"
   ]
  },
  {
   "cell_type": "markdown",
   "metadata": {},
   "source": [
    "### Example 2"
   ]
  },
  {
   "cell_type": "code",
   "execution_count": 63,
   "metadata": {},
   "outputs": [
    {
     "name": "stdout",
     "output_type": "stream",
     "text": [
      "There are 0 missing values in the dataframe\n",
      "[[  6.    148.     72.    ...   0.627  50.      1.   ]\n",
      " [  1.     85.     66.    ...   0.351  31.      0.   ]\n",
      " [  8.    183.     64.    ...   0.672  32.      1.   ]\n",
      " ...\n",
      " [  5.    121.     72.    ...   0.245  30.      0.   ]\n",
      " [  1.    126.     60.    ...   0.349  47.      1.   ]\n",
      " [  1.     93.     70.    ...   0.315  23.      0.   ]]\n"
     ]
    }
   ],
   "source": [
    "# Importing the necessary libraries\n",
    "from sklearn.impute import SimpleImputer\n",
    "import pandas as pd\n",
    "import numpy as np \n",
    "\n",
    "# Load the dataset\n",
    "dataset = pd.read_csv('pima-indians-diabetes.csv')\n",
    "\n",
    "# Identify missing data (assumes that missing data is represented as NaN)\n",
    "missing_values = dataset.isnull().sum().sum()\n",
    "\n",
    "# Print the number of missing entries in each column\n",
    "print(\"There are\", missing_values, \"missing values in the dataframe\")\n",
    "\n",
    "# Configure an instance of the SimpleImputer class\n",
    "simple_imputer = SimpleImputer(missing_values=np.nan, strategy='mean')\n",
    "\n",
    "# Fit the imputer on the DataFrame\n",
    "simple_imputer.fit(dataset)\n",
    "\n",
    "# Apply the transform to the DataFrame\n",
    "dataset = simple_imputer.transform(dataset)\n",
    "\n",
    "#Print your updated matrix of features\n",
    "print(dataset)"
   ]
  },
  {
   "cell_type": "markdown",
   "metadata": {},
   "source": [
    "### Example 3   "
   ]
  },
  {
   "cell_type": "code",
   "execution_count": 172,
   "metadata": {},
   "outputs": [
    {
     "name": "stdout",
     "output_type": "stream",
     "text": [
      "  (0, 49)\t1.0\n",
      "  (0, 183)\t1.0\n",
      "  (0, 294)\t1.0\n",
      "  (0, 384)\t1.0\n",
      "  (0, 445)\t1.0\n",
      "  (0, 448)\t2.0\n",
      "  (0, 449)\t1.0\n",
      "  (0, 450)\t38.0\n",
      "  (0, 451)\t1.0\n",
      "  (0, 453)\t71.2833\n",
      "  (1, 70)\t1.0\n",
      "  (1, 183)\t1.0\n",
      "  (1, 216)\t1.0\n",
      "  (1, 360)\t1.0\n",
      "  (1, 447)\t1.0\n",
      "  (1, 448)\t4.0\n",
      "  (1, 449)\t1.0\n",
      "  (1, 450)\t35.0\n",
      "  (1, 451)\t1.0\n",
      "  (1, 453)\t53.1\n",
      "  (2, 112)\t1.0\n",
      "  (2, 184)\t1.0\n",
      "  (2, 240)\t1.0\n",
      "  (2, 429)\t1.0\n",
      "  (2, 447)\t1.0\n",
      "  :\t:\n",
      "  (180, 373)\t1.0\n",
      "  (180, 445)\t1.0\n",
      "  (180, 448)\t880.0\n",
      "  (180, 449)\t1.0\n",
      "  (180, 450)\t56.0\n",
      "  (180, 452)\t1.0\n",
      "  (180, 453)\t83.1583\n",
      "  (181, 75)\t1.0\n",
      "  (181, 183)\t1.0\n",
      "  (181, 195)\t1.0\n",
      "  (181, 337)\t1.0\n",
      "  (181, 447)\t1.0\n",
      "  (181, 448)\t888.0\n",
      "  (181, 449)\t1.0\n",
      "  (181, 450)\t19.0\n",
      "  (181, 453)\t30.0\n",
      "  (182, 20)\t1.0\n",
      "  (182, 184)\t1.0\n",
      "  (182, 193)\t1.0\n",
      "  (182, 364)\t1.0\n",
      "  (182, 445)\t1.0\n",
      "  (182, 448)\t890.0\n",
      "  (182, 449)\t1.0\n",
      "  (182, 450)\t26.0\n",
      "  (182, 453)\t30.0 [1 1 0 1 1 1 1 0 1 0 0 1 0 1 0 0 1 0 0 0 1 0 1 0 0 0 1 0 0 0 1 1 1 1 0 1 1\n",
      " 1 1 1 0 1 0 0 1 0 0 1 1 0 1 1 0 0 1 1 1 1 1 1 1 1 1 1 1 0 0 0 1 0 1 1 1 1\n",
      " 1 1 1 0 1 1 1 1 1 1 0 1 0 1 1 0 1 0 1 0 1 1 1 0 0 1 0 1 0 1 0 1 1 1 0 1 1\n",
      " 0 1 1 1 1 1 1 1 0 1 1 1 1 1 1 1 0 1 1 1 1 1 1 0 0 0 1 1 1 1 0 0 1 1 1 1 1\n",
      " 0 1 1 1 1 1 0 1 0 0 1 1 1 1 0 1 1 0 0 1 1 0 1 1 1 1 1 1 1 0 1 0 1 1 1]\n"
     ]
    },
    {
     "name": "stderr",
     "output_type": "stream",
     "text": [
      "c:\\Users\\athar\\anaconda3\\Lib\\site-packages\\sklearn\\preprocessing\\_label.py:114: DataConversionWarning: A column-vector y was passed when a 1d array was expected. Please change the shape of y to (n_samples, ), for example using ravel().\n",
      "  y = column_or_1d(y, warn=True)\n"
     ]
    }
   ],
   "source": [
    "# Importing the necessary libraries\n",
    "import numpy as np \n",
    "import pandas as pd \n",
    "from sklearn.compose import ColumnTransformer\n",
    "from sklearn.preprocessing import OneHotEncoder\n",
    "from sklearn.preprocessing import LabelEncoder\n",
    "\n",
    "# Load the dataset\n",
    "dataset = pd.read_csv('titanic.csv')\n",
    "survived_column = dataset['Survived']\n",
    "dataset = dataset.drop('Survived', axis='columns')\n",
    "\n",
    "dataset['Survived'] = survived_column\n",
    "\n",
    "# Identify the categorical data\n",
    "X = dataset.iloc[:, :-1].values\n",
    "y = dataset.iloc[:, -1:].values\n",
    "\n",
    "# Implement an instance of the ColumnTransformer class\n",
    "ct = ColumnTransformer(transformers= [('encoder', OneHotEncoder(), [2, 3, 7, 9, 10])], remainder='passthrough')\n",
    "\n",
    "# Apply the fit_transform method on the instance of ColumnTransformer\n",
    "X = np.array(ct.fit_transform(X))\n",
    "\n",
    "\n",
    "# Convert the output into a NumPy array\n",
    "\n",
    "\n",
    "# Use LabelEncoder to encode binary categorical data\n",
    "le = LabelEncoder()\n",
    "y = le.fit_transform(y)\n",
    "\n",
    "# Print the updated matrix of features and the dependent variable vector\n",
    "print(X, y)\n"
   ]
  },
  {
   "cell_type": "markdown",
   "metadata": {},
   "source": [
    "##### Example 4"
   ]
  },
  {
   "cell_type": "code",
   "execution_count": 192,
   "metadata": {},
   "outputs": [],
   "source": [
    "# Import necessary libraries\n",
    "import pandas as pd\n",
    "from sklearn.model_selection import train_test_split\n",
    "from sklearn.preprocessing import StandardScaler\n",
    "\n",
    "# Load the Iris dataset\n",
    "dataset = pd.read_csv('iris.csv')\n",
    "\n",
    "# Separate features and target\n",
    "X = dataset.iloc[:, :-1].values\n",
    "y = dataset.iloc[:, -1].values\n",
    "\n",
    "# Split the dataset into an 80-20 training-test set\n",
    "X_Train, X_test, y_train, y_test = train_test_split(X, y, test_size=0.2, random_state=1)\n",
    "\n",
    "# Apply feature scaling on the training and test sets\n",
    "# Print the scaled training and test sets"
   ]
  }
 ],
 "metadata": {
  "kernelspec": {
   "display_name": "base",
   "language": "python",
   "name": "python3"
  },
  "language_info": {
   "codemirror_mode": {
    "name": "ipython",
    "version": 3
   },
   "file_extension": ".py",
   "mimetype": "text/x-python",
   "name": "python",
   "nbconvert_exporter": "python",
   "pygments_lexer": "ipython3",
   "version": "3.11.5"
  }
 },
 "nbformat": 4,
 "nbformat_minor": 2
}
